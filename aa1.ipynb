{
 "cells": [
  {
   "cell_type": "code",
   "execution_count": null,
   "metadata": {},
   "outputs": [],
   "source": [
    "import pandas as pd\n",
    "import seaborn as sns\n",
    "import matplotlib.pyplot as plt\n",
    "\n",
    "df = sns.load_dataset('titanic')\n",
    "\n",
    "df.isnull().sum()\n",
    "\n",
    "df.describe()\n",
    "\n",
    "df.drop('deck',axis=1)\n",
    "\n",
    "median = df['age'].median()\n",
    "\n",
    "df['age'].fillna(median,inplace = True)\n",
    "\n",
    "df.drop(['deck','embark_town','embarked'],axis=1)\n",
    "\n",
    "pd.get_dummies(df,drop_first=True)\n"
   ]
  }
 ],
 "metadata": {
  "language_info": {
   "name": "python"
  },
  "orig_nbformat": 4
 },
 "nbformat": 4,
 "nbformat_minor": 2
}
