{
 "cells": [
  {
   "cell_type": "code",
   "execution_count": 15,
   "metadata": {},
   "outputs": [],
   "source": [
    "import pandas as pd\n",
    "import numpy as np"
   ]
  },
  {
   "cell_type": "code",
   "execution_count": 16,
   "metadata": {},
   "outputs": [],
   "source": [
    "df = pd.DataFrame(columns = ['Roll no', 'Name', 'gender', 'Branch', 'Attendence', 'Marks', ])"
   ]
  },
  {
   "cell_type": "code",
   "execution_count": 17,
   "metadata": {},
   "outputs": [],
   "source": [
    "for i in range(20):\n",
    "    df.loc[i, 'Roll no'] = i+1\n",
    "    df.loc[i, 'Name'] = f'Student{i+1}'\n",
    "    df.loc[i, 'gender'] = ['M', 'F'] [i%2]\n",
    "    df.loc[i, 'Branch'] = ['AI&DS']\n",
    "    df.loc[i, 'Attendence'] = np.random.randint(0, 100)\n",
    "    df.loc[i, 'Marks'] = np.random.randint(50, 100)"
   ]
  },
  {
   "cell_type": "code",
   "execution_count": 18,
   "metadata": {},
   "outputs": [
    {
     "data": {
      "text/html": [
       "<div>\n",
       "<style scoped>\n",
       "    .dataframe tbody tr th:only-of-type {\n",
       "        vertical-align: middle;\n",
       "    }\n",
       "\n",
       "    .dataframe tbody tr th {\n",
       "        vertical-align: top;\n",
       "    }\n",
       "\n",
       "    .dataframe thead th {\n",
       "        text-align: right;\n",
       "    }\n",
       "</style>\n",
       "<table border=\"1\" class=\"dataframe\">\n",
       "  <thead>\n",
       "    <tr style=\"text-align: right;\">\n",
       "      <th></th>\n",
       "      <th>Roll no</th>\n",
       "      <th>Name</th>\n",
       "      <th>gender</th>\n",
       "      <th>Branch</th>\n",
       "      <th>Attendence</th>\n",
       "      <th>Marks</th>\n",
       "    </tr>\n",
       "  </thead>\n",
       "  <tbody>\n",
       "    <tr>\n",
       "      <th>0</th>\n",
       "      <td>1</td>\n",
       "      <td>Student1</td>\n",
       "      <td>M</td>\n",
       "      <td>[AI&amp;DS]</td>\n",
       "      <td>56</td>\n",
       "      <td>57</td>\n",
       "    </tr>\n",
       "    <tr>\n",
       "      <th>1</th>\n",
       "      <td>2</td>\n",
       "      <td>Student2</td>\n",
       "      <td>F</td>\n",
       "      <td>[AI&amp;DS]</td>\n",
       "      <td>94</td>\n",
       "      <td>89</td>\n",
       "    </tr>\n",
       "    <tr>\n",
       "      <th>2</th>\n",
       "      <td>3</td>\n",
       "      <td>Student3</td>\n",
       "      <td>M</td>\n",
       "      <td>[AI&amp;DS]</td>\n",
       "      <td>14</td>\n",
       "      <td>55</td>\n",
       "    </tr>\n",
       "    <tr>\n",
       "      <th>3</th>\n",
       "      <td>4</td>\n",
       "      <td>Student4</td>\n",
       "      <td>F</td>\n",
       "      <td>[AI&amp;DS]</td>\n",
       "      <td>41</td>\n",
       "      <td>77</td>\n",
       "    </tr>\n",
       "    <tr>\n",
       "      <th>4</th>\n",
       "      <td>5</td>\n",
       "      <td>Student5</td>\n",
       "      <td>M</td>\n",
       "      <td>[AI&amp;DS]</td>\n",
       "      <td>2</td>\n",
       "      <td>87</td>\n",
       "    </tr>\n",
       "    <tr>\n",
       "      <th>5</th>\n",
       "      <td>6</td>\n",
       "      <td>Student6</td>\n",
       "      <td>F</td>\n",
       "      <td>[AI&amp;DS]</td>\n",
       "      <td>20</td>\n",
       "      <td>99</td>\n",
       "    </tr>\n",
       "    <tr>\n",
       "      <th>6</th>\n",
       "      <td>7</td>\n",
       "      <td>Student7</td>\n",
       "      <td>M</td>\n",
       "      <td>[AI&amp;DS]</td>\n",
       "      <td>39</td>\n",
       "      <td>92</td>\n",
       "    </tr>\n",
       "    <tr>\n",
       "      <th>7</th>\n",
       "      <td>8</td>\n",
       "      <td>Student8</td>\n",
       "      <td>F</td>\n",
       "      <td>[AI&amp;DS]</td>\n",
       "      <td>81</td>\n",
       "      <td>69</td>\n",
       "    </tr>\n",
       "    <tr>\n",
       "      <th>8</th>\n",
       "      <td>9</td>\n",
       "      <td>Student9</td>\n",
       "      <td>M</td>\n",
       "      <td>[AI&amp;DS]</td>\n",
       "      <td>30</td>\n",
       "      <td>86</td>\n",
       "    </tr>\n",
       "    <tr>\n",
       "      <th>9</th>\n",
       "      <td>10</td>\n",
       "      <td>Student10</td>\n",
       "      <td>F</td>\n",
       "      <td>[AI&amp;DS]</td>\n",
       "      <td>1</td>\n",
       "      <td>55</td>\n",
       "    </tr>\n",
       "    <tr>\n",
       "      <th>10</th>\n",
       "      <td>11</td>\n",
       "      <td>Student11</td>\n",
       "      <td>M</td>\n",
       "      <td>[AI&amp;DS]</td>\n",
       "      <td>68</td>\n",
       "      <td>51</td>\n",
       "    </tr>\n",
       "    <tr>\n",
       "      <th>11</th>\n",
       "      <td>12</td>\n",
       "      <td>Student12</td>\n",
       "      <td>F</td>\n",
       "      <td>[AI&amp;DS]</td>\n",
       "      <td>54</td>\n",
       "      <td>64</td>\n",
       "    </tr>\n",
       "    <tr>\n",
       "      <th>12</th>\n",
       "      <td>13</td>\n",
       "      <td>Student13</td>\n",
       "      <td>M</td>\n",
       "      <td>[AI&amp;DS]</td>\n",
       "      <td>63</td>\n",
       "      <td>95</td>\n",
       "    </tr>\n",
       "    <tr>\n",
       "      <th>13</th>\n",
       "      <td>14</td>\n",
       "      <td>Student14</td>\n",
       "      <td>F</td>\n",
       "      <td>[AI&amp;DS]</td>\n",
       "      <td>53</td>\n",
       "      <td>80</td>\n",
       "    </tr>\n",
       "    <tr>\n",
       "      <th>14</th>\n",
       "      <td>15</td>\n",
       "      <td>Student15</td>\n",
       "      <td>M</td>\n",
       "      <td>[AI&amp;DS]</td>\n",
       "      <td>33</td>\n",
       "      <td>59</td>\n",
       "    </tr>\n",
       "    <tr>\n",
       "      <th>15</th>\n",
       "      <td>16</td>\n",
       "      <td>Student16</td>\n",
       "      <td>F</td>\n",
       "      <td>[AI&amp;DS]</td>\n",
       "      <td>74</td>\n",
       "      <td>72</td>\n",
       "    </tr>\n",
       "    <tr>\n",
       "      <th>16</th>\n",
       "      <td>17</td>\n",
       "      <td>Student17</td>\n",
       "      <td>M</td>\n",
       "      <td>[AI&amp;DS]</td>\n",
       "      <td>29</td>\n",
       "      <td>74</td>\n",
       "    </tr>\n",
       "    <tr>\n",
       "      <th>17</th>\n",
       "      <td>18</td>\n",
       "      <td>Student18</td>\n",
       "      <td>F</td>\n",
       "      <td>[AI&amp;DS]</td>\n",
       "      <td>24</td>\n",
       "      <td>89</td>\n",
       "    </tr>\n",
       "    <tr>\n",
       "      <th>18</th>\n",
       "      <td>19</td>\n",
       "      <td>Student19</td>\n",
       "      <td>M</td>\n",
       "      <td>[AI&amp;DS]</td>\n",
       "      <td>63</td>\n",
       "      <td>85</td>\n",
       "    </tr>\n",
       "    <tr>\n",
       "      <th>19</th>\n",
       "      <td>20</td>\n",
       "      <td>Student20</td>\n",
       "      <td>F</td>\n",
       "      <td>[AI&amp;DS]</td>\n",
       "      <td>81</td>\n",
       "      <td>69</td>\n",
       "    </tr>\n",
       "  </tbody>\n",
       "</table>\n",
       "</div>"
      ],
      "text/plain": [
       "   Roll no       Name gender   Branch Attendence Marks\n",
       "0        1   Student1      M  [AI&DS]         56    57\n",
       "1        2   Student2      F  [AI&DS]         94    89\n",
       "2        3   Student3      M  [AI&DS]         14    55\n",
       "3        4   Student4      F  [AI&DS]         41    77\n",
       "4        5   Student5      M  [AI&DS]          2    87\n",
       "5        6   Student6      F  [AI&DS]         20    99\n",
       "6        7   Student7      M  [AI&DS]         39    92\n",
       "7        8   Student8      F  [AI&DS]         81    69\n",
       "8        9   Student9      M  [AI&DS]         30    86\n",
       "9       10  Student10      F  [AI&DS]          1    55\n",
       "10      11  Student11      M  [AI&DS]         68    51\n",
       "11      12  Student12      F  [AI&DS]         54    64\n",
       "12      13  Student13      M  [AI&DS]         63    95\n",
       "13      14  Student14      F  [AI&DS]         53    80\n",
       "14      15  Student15      M  [AI&DS]         33    59\n",
       "15      16  Student16      F  [AI&DS]         74    72\n",
       "16      17  Student17      M  [AI&DS]         29    74\n",
       "17      18  Student18      F  [AI&DS]         24    89\n",
       "18      19  Student19      M  [AI&DS]         63    85\n",
       "19      20  Student20      F  [AI&DS]         81    69"
      ]
     },
     "execution_count": 18,
     "metadata": {},
     "output_type": "execute_result"
    }
   ],
   "source": [
    "df.to_csv('test.csv', index=False)\n",
    "df"
   ]
  },
  {
   "cell_type": "code",
   "execution_count": 19,
   "metadata": {},
   "outputs": [
    {
     "data": {
      "text/plain": [
       "Roll no       0\n",
       "Name          0\n",
       "gender        0\n",
       "Branch        0\n",
       "Attendence    0\n",
       "Marks         0\n",
       "dtype: int64"
      ]
     },
     "execution_count": 19,
     "metadata": {},
     "output_type": "execute_result"
    }
   ],
   "source": [
    "df.isnull().sum()"
   ]
  },
  {
   "cell_type": "code",
   "execution_count": 20,
   "metadata": {},
   "outputs": [
    {
     "data": {
      "text/plain": [
       "Roll no       object\n",
       "Name          object\n",
       "gender        object\n",
       "Branch        object\n",
       "Attendence    object\n",
       "Marks         object\n",
       "dtype: object"
      ]
     },
     "execution_count": 20,
     "metadata": {},
     "output_type": "execute_result"
    }
   ],
   "source": [
    "df.dtypes"
   ]
  },
  {
   "cell_type": "code",
   "execution_count": 21,
   "metadata": {},
   "outputs": [
    {
     "data": {
      "text/html": [
       "<div>\n",
       "<style scoped>\n",
       "    .dataframe tbody tr th:only-of-type {\n",
       "        vertical-align: middle;\n",
       "    }\n",
       "\n",
       "    .dataframe tbody tr th {\n",
       "        vertical-align: top;\n",
       "    }\n",
       "\n",
       "    .dataframe thead th {\n",
       "        text-align: right;\n",
       "    }\n",
       "</style>\n",
       "<table border=\"1\" class=\"dataframe\">\n",
       "  <thead>\n",
       "    <tr style=\"text-align: right;\">\n",
       "      <th></th>\n",
       "      <th>Roll no</th>\n",
       "      <th>Name</th>\n",
       "      <th>gender</th>\n",
       "      <th>Branch</th>\n",
       "      <th>Attendence</th>\n",
       "      <th>Marks</th>\n",
       "    </tr>\n",
       "  </thead>\n",
       "  <tbody>\n",
       "    <tr>\n",
       "      <th>count</th>\n",
       "      <td>20</td>\n",
       "      <td>20</td>\n",
       "      <td>20</td>\n",
       "      <td>20</td>\n",
       "      <td>20</td>\n",
       "      <td>20</td>\n",
       "    </tr>\n",
       "    <tr>\n",
       "      <th>unique</th>\n",
       "      <td>20</td>\n",
       "      <td>20</td>\n",
       "      <td>2</td>\n",
       "      <td>1</td>\n",
       "      <td>18</td>\n",
       "      <td>17</td>\n",
       "    </tr>\n",
       "    <tr>\n",
       "      <th>top</th>\n",
       "      <td>20</td>\n",
       "      <td>Student11</td>\n",
       "      <td>M</td>\n",
       "      <td>[AI&amp;DS]</td>\n",
       "      <td>63</td>\n",
       "      <td>89</td>\n",
       "    </tr>\n",
       "    <tr>\n",
       "      <th>freq</th>\n",
       "      <td>1</td>\n",
       "      <td>1</td>\n",
       "      <td>10</td>\n",
       "      <td>20</td>\n",
       "      <td>2</td>\n",
       "      <td>2</td>\n",
       "    </tr>\n",
       "  </tbody>\n",
       "</table>\n",
       "</div>"
      ],
      "text/plain": [
       "        Roll no       Name gender   Branch  Attendence  Marks\n",
       "count        20         20     20       20          20     20\n",
       "unique       20         20      2        1          18     17\n",
       "top          20  Student11      M  [AI&DS]          63     89\n",
       "freq          1          1     10       20           2      2"
      ]
     },
     "execution_count": 21,
     "metadata": {},
     "output_type": "execute_result"
    }
   ],
   "source": [
    "df.describe()"
   ]
  },
  {
   "cell_type": "code",
   "execution_count": 22,
   "metadata": {},
   "outputs": [
    {
     "name": "stdout",
     "output_type": "stream",
     "text": [
      "<class 'pandas.core.frame.DataFrame'>\n",
      "Int64Index: 20 entries, 0 to 19\n",
      "Data columns (total 6 columns):\n",
      " #   Column      Non-Null Count  Dtype \n",
      "---  ------      --------------  ----- \n",
      " 0   Roll no     20 non-null     object\n",
      " 1   Name        20 non-null     object\n",
      " 2   gender      20 non-null     object\n",
      " 3   Branch      20 non-null     object\n",
      " 4   Attendence  20 non-null     object\n",
      " 5   Marks       20 non-null     object\n",
      "dtypes: object(6)\n",
      "memory usage: 1.7+ KB\n"
     ]
    }
   ],
   "source": [
    "df.info()"
   ]
  },
  {
   "cell_type": "code",
   "execution_count": 23,
   "metadata": {},
   "outputs": [
    {
     "name": "stdout",
     "output_type": "stream",
     "text": [
      "0     57\n",
      "1     89\n",
      "2     55\n",
      "3     77\n",
      "4     87\n",
      "5     99\n",
      "6     92\n",
      "7     69\n",
      "8     86\n",
      "9     55\n",
      "10    51\n",
      "11    64\n",
      "12    95\n",
      "13    80\n",
      "14    59\n",
      "15    72\n",
      "16    74\n",
      "17    89\n",
      "18    85\n",
      "19    69\n",
      "Name: Marks, dtype: object\n"
     ]
    }
   ],
   "source": [
    "q1 = df['Marks'].quantile(0.25)\n",
    "q3 = df['Marks'].quantile(0.75)\n",
    "\n",
    "iqr = q3 - q1\n",
    "\n",
    "outliers = df['Marks'][(df['Marks'] < q1 - 1.5 * iqr) | (df['Marks'] > q3 - 1.5 * iqr)]\n",
    "print (outliers)"
   ]
  },
  {
   "cell_type": "code",
   "execution_count": 24,
   "metadata": {},
   "outputs": [],
   "source": [
    "import matplotlib.pyplot as plt"
   ]
  },
  {
   "cell_type": "code",
   "execution_count": 25,
   "metadata": {},
   "outputs": [
    {
     "data": {
      "text/plain": [
       "{'whiskers': [<matplotlib.lines.Line2D at 0x1f73886feb8>,\n",
       "  <matplotlib.lines.Line2D at 0x1f73887c208>],\n",
       " 'caps': [<matplotlib.lines.Line2D at 0x1f73887c4e0>,\n",
       "  <matplotlib.lines.Line2D at 0x1f73887c7b8>],\n",
       " 'boxes': [<matplotlib.lines.Line2D at 0x1f73886fcc0>],\n",
       " 'medians': [<matplotlib.lines.Line2D at 0x1f73887ca90>],\n",
       " 'fliers': [<matplotlib.lines.Line2D at 0x1f73887cd68>],\n",
       " 'means': []}"
      ]
     },
     "execution_count": 25,
     "metadata": {},
     "output_type": "execute_result"
    },
    {
     "data": {
      "image/png": "[encoded data removed]",
      "text/plain": [
       "<Figure size 432x288 with 1 Axes>"
      ]
     },
     "metadata": {
      "needs_background": "light"
     },
     "output_type": "display_data"
    }
   ],
   "source": [
    "plt.boxplot(df['Marks'])"
   ]
  },
  {
   "cell_type": "code",
   "execution_count": 26,
   "metadata": {},
   "outputs": [],
   "source": [
    "#df = df[ ~df['Marks'].isin(outliers)]"
   ]
  },
  {
   "cell_type": "code",
   "execution_count": 27,
   "metadata": {},
   "outputs": [
    {
     "data": {
      "text/plain": [
       "<AxesSubplot:ylabel='Frequency'>"
      ]
     },
     "execution_count": 27,
     "metadata": {},
     "output_type": "execute_result"
    },
    {
     "data": {
      "image/png": "[encoded data removed]",
      "text/plain": [
       "<Figure size 432x288 with 1 Axes>"
      ]
     },
     "metadata": {
      "needs_background": "light"
     },
     "output_type": "display_data"
    }
   ],
   "source": [
    "df['Marks'] = df['Marks'].astype(float)\n",
    "df['Marks'].plot(kind='hist')"
   ]
  },
  {
   "cell_type": "code",
   "execution_count": 28,
   "metadata": {},
   "outputs": [],
   "source": [
    "\n",
    "df['log_Marks'] = np.log10(df['Marks'])"
   ]
  },
  {
   "cell_type": "code",
   "execution_count": 29,
   "metadata": {},
   "outputs": [
    {
     "data": {
      "text/plain": [
       "<AxesSubplot:ylabel='Frequency'>"
      ]
     },
     "execution_count": 29,
     "metadata": {},
     "output_type": "execute_result"
    },
    {
     "data": {
      "image/png": "[encoded data removed]",
      "text/plain": [
       "<Figure size 432x288 with 1 Axes>"
      ]
     },
     "metadata": {
      "needs_background": "light"
     },
     "output_type": "display_data"
    }
   ],
   "source": [
    "df['log_Marks'].plot(kind='hist')"
   ]
  },
  {
   "cell_type": "code",
   "execution_count": null,
   "metadata": {},
   "outputs": [],
   "source": []
  }
 ],
 "metadata": {
  "kernelspec": {
   "display_name": "dsfs",
   "language": "python",
   "name": "python3"
  },
  "language_info": {
   "codemirror_mode": {
    "name": "ipython",
    "version": 3
   },
   "file_extension": ".py",
   "mimetype": "text/x-python",
   "name": "python",
   "nbconvert_exporter": "python",
   "pygments_lexer": "ipython3",
   "version": "3.6.13"
  },
  "orig_nbformat": 4
 },
 "nbformat": 4,
 "nbformat_minor": 2
}
